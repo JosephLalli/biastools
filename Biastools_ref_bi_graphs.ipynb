{
 "cells": [
  {
   "cell_type": "code",
   "execution_count": 29,
   "metadata": {},
   "outputs": [
    {
     "data": {
      "text/html": [
       "<div>\n",
       "<style scoped>\n",
       "    .dataframe tbody tr th:only-of-type {\n",
       "        vertical-align: middle;\n",
       "    }\n",
       "\n",
       "    .dataframe tbody tr th {\n",
       "        vertical-align: top;\n",
       "    }\n",
       "\n",
       "    .dataframe thead th {\n",
       "        text-align: right;\n",
       "    }\n",
       "</style>\n",
       "<table border=\"1\" class=\"dataframe\">\n",
       "  <thead>\n",
       "    <tr style=\"text-align: right;\">\n",
       "      <th></th>\n",
       "      <th>CHR</th>\n",
       "      <th>HET_SITE</th>\n",
       "      <th>REFERENCE_BIAS</th>\n",
       "      <th>REF_COUNT</th>\n",
       "      <th>ALT_COUNT</th>\n",
       "      <th>GAP_COUNT</th>\n",
       "      <th>OTHER_COUNT</th>\n",
       "      <th>NUM_READS</th>\n",
       "      <th>SUM_MAPQ</th>\n",
       "      <th>READ_DISTRIBUTION</th>\n",
       "    </tr>\n",
       "  </thead>\n",
       "  <tbody>\n",
       "    <tr>\n",
       "      <th>0</th>\n",
       "      <td>chr21</td>\n",
       "      <td>5063904</td>\n",
       "      <td>0.480769</td>\n",
       "      <td>25</td>\n",
       "      <td>27</td>\n",
       "      <td>0</td>\n",
       "      <td>0</td>\n",
       "      <td>52</td>\n",
       "      <td>651</td>\n",
       "      <td>0.480769</td>\n",
       "    </tr>\n",
       "    <tr>\n",
       "      <th>1</th>\n",
       "      <td>chr21</td>\n",
       "      <td>5063917</td>\n",
       "      <td>0.479167</td>\n",
       "      <td>23</td>\n",
       "      <td>25</td>\n",
       "      <td>0</td>\n",
       "      <td>0</td>\n",
       "      <td>48</td>\n",
       "      <td>632</td>\n",
       "      <td>0.479167</td>\n",
       "    </tr>\n",
       "    <tr>\n",
       "      <th>2</th>\n",
       "      <td>chr21</td>\n",
       "      <td>5216337</td>\n",
       "      <td>0.516129</td>\n",
       "      <td>16</td>\n",
       "      <td>15</td>\n",
       "      <td>0</td>\n",
       "      <td>0</td>\n",
       "      <td>31</td>\n",
       "      <td>1302</td>\n",
       "      <td>0.516129</td>\n",
       "    </tr>\n",
       "    <tr>\n",
       "      <th>3</th>\n",
       "      <td>chr21</td>\n",
       "      <td>5218151</td>\n",
       "      <td>0.483871</td>\n",
       "      <td>15</td>\n",
       "      <td>16</td>\n",
       "      <td>0</td>\n",
       "      <td>1</td>\n",
       "      <td>32</td>\n",
       "      <td>1344</td>\n",
       "      <td>0.468750</td>\n",
       "    </tr>\n",
       "    <tr>\n",
       "      <th>4</th>\n",
       "      <td>chr21</td>\n",
       "      <td>5218669</td>\n",
       "      <td>0.512195</td>\n",
       "      <td>21</td>\n",
       "      <td>20</td>\n",
       "      <td>0</td>\n",
       "      <td>0</td>\n",
       "      <td>41</td>\n",
       "      <td>1722</td>\n",
       "      <td>0.512195</td>\n",
       "    </tr>\n",
       "  </tbody>\n",
       "</table>\n",
       "</div>"
      ],
      "text/plain": [
       "     CHR  HET_SITE  REFERENCE_BIAS  REF_COUNT  ALT_COUNT  GAP_COUNT  \\\n",
       "0  chr21   5063904        0.480769         25         27          0   \n",
       "1  chr21   5063917        0.479167         23         25          0   \n",
       "2  chr21   5216337        0.516129         16         15          0   \n",
       "3  chr21   5218151        0.483871         15         16          0   \n",
       "4  chr21   5218669        0.512195         21         20          0   \n",
       "\n",
       "   OTHER_COUNT  NUM_READS  SUM_MAPQ  READ_DISTRIBUTION  \n",
       "0            0         52       651           0.480769  \n",
       "1            0         48       632           0.479167  \n",
       "2            0         31      1302           0.516129  \n",
       "3            1         32      1344           0.468750  \n",
       "4            0         41      1722           0.512195  "
      ]
     },
     "execution_count": 29,
     "metadata": {},
     "output_type": "execute_result"
    }
   ],
   "source": [
    "import pandas as pd\n",
    "import seaborn as sns\n",
    "import matplotlib.pyplot as plt\n",
    "\n",
    "FN_INPUT = '/Users/sheilaiyer/resources/my_biastools/new.bt.bias'\n",
    "FN_FIG = 'combined_ref_bi.txt'\n",
    "\n",
    "df = pd.read_csv(FN_INPUT, sep='\\t')\n",
    "df_merged_final = df[(df['NUM_READS']) >= 15]\n",
    "#df_hapA.rename(columns={\"REFERENCE_BIAS\":\"HAP_A_REFERENCE_BIAS\", \"REF_COUNT\": \"HAP_A_REF_COUNT\", \"ALT_COUNT\": \"HAP_A_ALT_COUNT\", \n",
    "#                   \"GAP_COUNT\": \"HAP_A_GAP_COUNT\", \"OTHER_COUNT\": \"HAP_A_OTHER_COUNT\", \n",
    "#                   \"NUM_READS\": \"HAP_A_NUM_READS\", \"SUM_MAPQ\": \"HAP_A_SUM_MAPQ\"}, inplace = True)\n",
    "df_merged_final.head()\n"
   ]
  },
  {
   "cell_type": "code",
   "execution_count": 30,
   "metadata": {},
   "outputs": [
    {
     "name": "stdout",
     "output_type": "stream",
     "text": [
      "0.01    0.314286\n",
      "0.10    0.400000\n",
      "0.25    0.448276\n",
      "0.50    0.500000\n",
      "0.75    0.553191\n",
      "0.90    0.605263\n",
      "0.99    0.727273\n",
      "Name: REFERENCE_BIAS, dtype: float64\n",
      "mean:  0.5030842715588969\n"
     ]
    },
    {
     "name": "stderr",
     "output_type": "stream",
     "text": [
      "/opt/anaconda3/lib/python3.8/site-packages/numpy/lib/histograms.py:839: RuntimeWarning: invalid value encountered in greater_equal\n",
      "  keep = (tmp_a >= first_edge)\n",
      "/opt/anaconda3/lib/python3.8/site-packages/numpy/lib/histograms.py:840: RuntimeWarning: invalid value encountered in less_equal\n",
      "  keep &= (tmp_a <= last_edge)\n"
     ]
    },
    {
     "data": {
      "text/plain": [
       "Text(0, 0.5, 'Counts')"
      ]
     },
     "execution_count": 30,
     "metadata": {},
     "output_type": "execute_result"
    },
    {
     "data": {
      "image/png": "[encoded data removed]",
      "text/plain": [
       "<Figure size 432x288 with 1 Axes>"
      ]
     },
     "metadata": {
      "needs_background": "light"
     },
     "output_type": "display_data"
    }
   ],
   "source": [
    "import numpy as np\n",
    "\n",
    "rb = df_merged_final['REFERENCE_BIAS']\n",
    "if 'NaN' in rb:\n",
    "    print(\"true\")\n",
    "\n",
    "#: show stats\n",
    "print (rb.quantile(q=[.01, .1, 0.25,0.5,0.75, .90, .99]))\n",
    "print(\"mean: \", np.mean(rb))\n",
    "\n",
    "plt.clf()\n",
    "plt.hist(rb)\n",
    "plt.yscale('log')\n",
    "plt.xlabel('Reference Bias')\n",
    "plt.ylabel('Counts')\n",
    "#plt.title(TITLE)\n",
    "#plt.savefig(FN_FIG)"
   ]
  },
  {
   "cell_type": "code",
   "execution_count": 31,
   "metadata": {},
   "outputs": [
    {
     "data": {
      "text/plain": [
       "Text(0.5, 1.0, 'Reference Bias Distribution of HET sites with Reference Bias >= 0.80')"
      ]
     },
     "execution_count": 31,
     "metadata": {},
     "output_type": "execute_result"
    },
    {
     "data": {
      "image/png": "[encoded data removed]",
      "text/plain": [
       "<Figure size 432x288 with 1 Axes>"
      ]
     },
     "metadata": {
      "needs_background": "light"
     },
     "output_type": "display_data"
    }
   ],
   "source": [
    "df_eighty = df_merged_final[df_merged_final['REFERENCE_BIAS'] >= 0.80]\n",
    "df_eighty_refbi = df_eighty['REFERENCE_BIAS']\n",
    "#print(len(df_eighty_refbi))\n",
    "\n",
    "title = 'Reference Bias Distribution of HET sites with Reference Bias >= 0.80'\n",
    "plt.clf()\n",
    "plt.hist(df_eighty_refbi)\n",
    "plt.yscale('log')\n",
    "plt.xlabel('Reference Bias')\n",
    "plt.ylabel('Counts')\n",
    "plt.title(title)"
   ]
  },
  {
   "cell_type": "code",
   "execution_count": 32,
   "metadata": {},
   "outputs": [],
   "source": [
    "def map_mapq_to_size(mapq):\n",
    "    if mapq >= 40:\n",
    "        return 0\n",
    "    elif mapq >= 30:\n",
    "        return 1\n",
    "    elif mapq >= 20:\n",
    "        return 2\n",
    "    elif mapq >= 10:\n",
    "        return 3\n",
    "    elif mapq >= 5:\n",
    "        return 4\n",
    "    elif mapq >= 3:\n",
    "        return 5\n",
    "    elif mapq >= 1:\n",
    "        return 6\n",
    "    return 7"
   ]
  },
  {
   "cell_type": "code",
   "execution_count": 33,
   "metadata": {},
   "outputs": [
    {
     "name": "stderr",
     "output_type": "stream",
     "text": [
      "<ipython-input-33-9b50f290f132>:4: SettingWithCopyWarning: \n",
      "A value is trying to be set on a copy of a slice from a DataFrame.\n",
      "Try using .loc[row_indexer,col_indexer] = value instead\n",
      "\n",
      "See the caveats in the documentation: https://pandas.pydata.org/pandas-docs/stable/user_guide/indexing.html#returning-a-view-versus-a-copy\n",
      "  df_eighty['AVERAGE_MAPQ'] = df_eighty['SUM_MAPQ']/(df_eighty['NUM_READS'])\n"
     ]
    },
    {
     "data": {
      "text/plain": [
       "<matplotlib.legend.Legend at 0x11c9ef2b0>"
      ]
     },
     "execution_count": 33,
     "metadata": {},
     "output_type": "execute_result"
    },
    {
     "data": {
      "image/png": "[encoded data removed]",
      "text/plain": [
       "<Figure size 432x288 with 1 Axes>"
      ]
     },
     "metadata": {
      "needs_background": "light"
     },
     "output_type": "display_data"
    }
   ],
   "source": [
    "sp = pd.DataFrame()\n",
    "\n",
    "# Add columns\n",
    "df_eighty['AVERAGE_MAPQ'] = df_eighty['SUM_MAPQ']/(df_eighty['NUM_READS'])\n",
    "mapQ = list(df_eighty['AVERAGE_MAPQ'])\n",
    "\n",
    "sp['REFERENCE BIAS'] = list(df_eighty_refbi)\n",
    "sp['READ DISTRIBUTION'] = list(df_eighty['READ_DISTRIBUTION'])\n",
    "sp.head()\n",
    "\n",
    "mapped_mapQ = [map_mapq_to_size(q) for q in mapQ]\n",
    "sp['Ambiguity'] = mapped_mapQ\n",
    "sp['MapQ'] = list(mapQ)\n",
    "#sp['# Variants'] = list(size_in['# Variants']+1)\n",
    "\n",
    "#ax = sns.scatterplot(x=\"REFERENCE BIAS\", y=\"Read Distribution\",  hue = \"Ambiguity\", size = \"# Variants\", data = sp)#hue=\"size\", size=\"size\", data=tips)\n",
    "ax = sns.scatterplot(x=\"REFERENCE BIAS\", y=\"READ DISTRIBUTION\",  hue = \"Ambiguity\", data = sp)#hue=\"size\", size=\"size\", data=tips)\n",
    "plt.legend(bbox_to_anchor=(1.05, 1), loc=2, borderaxespad=0.)"
   ]
  },
  {
   "cell_type": "code",
   "execution_count": null,
   "metadata": {},
   "outputs": [],
   "source": [
    "df_merged = pd.merge(df_hapA, df_hapB,  how='left', left_on=['CHR','HET_SITE'], right_on = ['CHR','HET_SITE'])\n",
    "df_merged_final = df_merged[(df_merged['HAP_A_NUM_READS']+df_merged['HAP_B_NUM_READS']) >= 15]\n",
    "df_merged_final['Overall_Reference_Bias'] = (df_merged_final['HAP_A_REF_COUNT']+df_merged_final['HAP_B_REF_COUNT'])/(df_merged_final['HAP_A_REF_COUNT']+df_merged_final['HAP_B_REF_COUNT']+df_merged_final['HAP_A_ALT_COUNT']+df_merged_final['HAP_B_ALT_COUNT'])\n",
    "\n",
    "df_merged_final.head()\n"
   ]
  },
  {
   "cell_type": "code",
   "execution_count": null,
   "metadata": {},
   "outputs": [],
   "source": [
    "FN_INPUT2 = '/Users/sheilaiyer/resources/biastools/hapB_ref_bi.txt'\n",
    "\n",
    "df_hapB = pd.read_csv(FN_INPUT2, sep='\\t')\n",
    "df_hapB.rename(columns={\"REFERENCE_BIAS\":\"HAP_B_REFERENCE_BIAS\", \"REF_COUNT\": \"HAP_B_REF_COUNT\", \"ALT_COUNT\": \"HAP_B_ALT_COUNT\", \n",
    "                   \"GAP_COUNT\": \"HAP_B_GAP_COUNT\", \"OTHER_COUNT\": \"HAP_B_OTHER_COUNT\", \n",
    "                   \"NUM_READS\": \"HAP_B_NUM_READS\", \"SUM_MAPQ\": \"HAP_B_SUM_MAPQ\"}, inplace = True)\n",
    "df_hapB.head()\n"
   ]
  },
  {
   "cell_type": "code",
   "execution_count": null,
   "metadata": {},
   "outputs": [],
   "source": [
    "FN_INPUT3 = '/Users/sheilaiyer/resources/biastools/chr21_het.vcf'\n",
    "\n",
    "df_het = pd.read_csv(FN_INPUT3, comment = \"#\", sep = '\\t', header = None, usecols = [0, 1, 9])\n",
    "df_het.head()\n",
    "read_distribution = list()\n",
    "list_geno = list(df_het[9])\n",
    "hapA_reads = list(df_eighty['HAP_A_NUM_READS'])\n",
    "hapB_reads = list(df_eighty['HAP_B_NUM_READS'])\n",
    "read_dis = 0.0;\n",
    "\n",
    "for i in range(len(list_geno)):\n",
    "    #print(df_het[1][i])\n",
    "    #print(df_eighty.HET_SITE)\n",
    "    if (df_het[1][i] in list(df_eighty.HET_SITE)):\n",
    "        if(list_geno[i] == \"0|1\"):\n",
    "            read_dis = hapA_reads[i]/(hapA_reads[i]+hapB_reads[i])\n",
    "            read_distribution.append(read_dis)\n",
    "        else:\n",
    "            read_dis = hapB_reads[i]/(hapA_reads[i]+hapB_reads[i])\n",
    "            read_distribution.append(read_dis)\n",
    "\n",
    "print(len(read_distribution))\n"
   ]
  },
  {
   "cell_type": "code",
   "execution_count": null,
   "metadata": {},
   "outputs": [],
   "source": []
  }
 ],
 "metadata": {
  "kernelspec": {
   "display_name": "Python 3",
   "language": "python",
   "name": "python3"
  },
  "language_info": {
   "codemirror_mode": {
    "name": "ipython",
    "version": 3
   },
   "file_extension": ".py",
   "mimetype": "text/x-python",
   "name": "python",
   "nbconvert_exporter": "python",
   "pygments_lexer": "ipython3",
   "version": "3.8.3"
  }
 },
 "nbformat": 4,
 "nbformat_minor": 4
}
